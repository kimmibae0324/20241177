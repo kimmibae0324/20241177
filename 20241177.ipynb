{
 "cells": [
  {
   "cell_type": "markdown",
   "id": "6e28850a-189c-4bce-98bb-6f02f632a307",
   "metadata": {},
   "source": [
    "#1. LeetCode 225. Implement Stack using Queues "
   ]
  },
  {
   "cell_type": "code",
   "execution_count": 9,
   "id": "18aaa1ee-284a-4263-95dd-545d8376b285",
   "metadata": {},
   "outputs": [],
   "source": [
    "from collections import deque\n",
    "\n",
    "class MyStack:\n",
    "    def __init__(self):\n",
    "        self.q1 = deque()\n",
    "        self.q2 = deque()\n",
    "\n",
    "    def push(self, x: int) -> None:\n",
    "        self.q2.append(x)\n",
    "        while self.q1:\n",
    "            self.q2.append(self.q1.popleft())\n",
    "        self.q1, self.q2 = self.q2, self.q1\n",
    "\n",
    "    def pop(self) -> int:\n",
    "        return self.q1.popleft()\n",
    "\n",
    "    def top(self) -> int:\n",
    "        return self.q1[0]\n",
    "\n",
    "    def empty(self) -> bool:\n",
    "        return not self.q1\n"
   ]
  },
  {
   "cell_type": "markdown",
   "id": "05d61c62-1e09-4140-be8d-8e6a17c0ba35",
   "metadata": {},
   "source": [
    "#2. LeetCode 232. Implement Queue using Stacks "
   ]
  },
  {
   "cell_type": "code",
   "execution_count": 10,
   "id": "59118c24-3f3f-47f8-bd03-f1eeccc57ad5",
   "metadata": {},
   "outputs": [],
   "source": [
    "class MyQueue:\n",
    "    def __init__(self):\n",
    "        self.s1 = []\n",
    "        self.s2 = []\n",
    "\n",
    "    def push(self, x: int) -> None:\n",
    "        self.s1.append(x)\n",
    "\n",
    "    def pop(self) -> int:\n",
    "        if not self.s2:\n",
    "            while self.s1:\n",
    "                self.s2.append(self.s1.pop())\n",
    "        return self.s2.pop()\n",
    "\n",
    "    def peek(self) -> int:\n",
    "        if not self.s2:\n",
    "            while self.s1:\n",
    "                self.s2.append(self.s1.pop())\n",
    "        return self.s2[-1]\n",
    "\n",
    "    def empty(self) -> bool:\n",
    "        return not self.s1 and not self.s2\n"
   ]
  },
  {
   "cell_type": "markdown",
   "id": "a6272b7c-5367-4c49-9972-02dce52c7767",
   "metadata": {},
   "source": [
    "#3.큐 연습문제"
   ]
  },
  {
   "cell_type": "markdown",
   "id": "9a19185e-0c76-4c26-bedf-a238b8a28e9b",
   "metadata": {},
   "source": [
    "##1."
   ]
  },
  {
   "cell_type": "code",
   "execution_count": 11,
   "id": "f65b4138-7c92-46a8-bb4b-53faf33e2120",
   "metadata": {},
   "outputs": [],
   "source": [
    "class ListQueue:\n",
    "    def __init__(self):\n",
    "        self.__queue = []\n",
    "\n",
    "    def enqueue(self,x):\n",
    "        self.__queue.insert(0,x)\n",
    "\n",
    "    def dequeue(self):\n",
    "        return self.__queue.pop()\n",
    "\n",
    "    def front(self):\n",
    "        return self.__queue[-1]\n",
    "\n",
    "    def isEmpty(self)->bool:\n",
    "        return len(self.__queue) == 0\n",
    "\n",
    "    def dequeueAll(self):\n",
    "        self.__queue.clear()\n"
   ]
  },
  {
   "cell_type": "markdown",
   "id": "29dfcb6f-c62a-4904-ab6a-63b6b2b4c9c2",
   "metadata": {},
   "source": [
    "##2."
   ]
  },
  {
   "cell_type": "code",
   "execution_count": 12,
   "id": "ddf73c38-d75a-4cfd-8e12-e43c8383786f",
   "metadata": {},
   "outputs": [],
   "source": [
    "from collections import deque\n",
    "\n",
    "def is_in_set(string):\n",
    "    if '$' not in string:\n",
    "        return False\n",
    "\n",
    "    left_q = deque()\n",
    "    right_q = deque()\n",
    "\n",
    "    index = string.find('$')\n",
    "    left = string[:index]\n",
    "    right = string[index+1:]\n",
    "\n",
    "    for ch in left:\n",
    "        left_q.append(ch)\n",
    "\n",
    "    for ch in right:\n",
    "        right_q.append(ch)\n",
    "\n",
    "    if len(left_q) != len(right_q):\n",
    "        return False\n",
    "\n",
    "    while left_q:\n",
    "        if left_q.popleft() != right_q.popleft():\n",
    "            return False\n",
    "\n",
    "    return True\n"
   ]
  },
  {
   "cell_type": "markdown",
   "id": "6c53c367-0d0b-4e88-a751-9a4d05bb2244",
   "metadata": {},
   "source": [
    "##3."
   ]
  },
  {
   "cell_type": "code",
   "execution_count": 13,
   "id": "df29f23a-e8db-4048-9dab-316c795b22f7",
   "metadata": {},
   "outputs": [],
   "source": [
    "class Node:\n",
    "    def __init__(self,item):\n",
    "        self.item = item\n",
    "        self.next = None\n",
    "\n",
    "class LinkedQueue:\n",
    "    def __init__(self):\n",
    "        self.front = None\n",
    "        self.rear = None\n",
    "\n",
    "    def enqueue(self,item):\n",
    "        new_node = Node(item)\n",
    "        if self.rear is None:\n",
    "            self.front = self.rear = new_node\n",
    "        else:\n",
    "            self.rear.next = new_node\n",
    "            self.rear = new_node\n",
    "    \n",
    "    def clone(self):\n",
    "        new_queue = LinkedQueue()\n",
    "        current = self.front\n",
    "        while current:\n",
    "            new_queue.enqueue(current.item)\n",
    "            current = current.next\n",
    "        return new_queue"
   ]
  },
  {
   "cell_type": "markdown",
   "id": "5f3456d8-3c86-49f8-a799-3e7a2576015e",
   "metadata": {},
   "source": [
    "##4."
   ]
  },
  {
   "cell_type": "code",
   "execution_count": 14,
   "id": "0dfdd466-1d6e-418a-aeb8-1b56b272b875",
   "metadata": {},
   "outputs": [],
   "source": [
    "from collections import deque\n",
    "\n",
    "class StackUsingQueues:\n",
    "    def __init__(self):\n",
    "        self.q1 = deque() \n",
    "        self.q2 = deque()\n",
    "\n",
    "    def push(self,x):\n",
    "        self.q2.append(x)\n",
    "        while self.q1:\n",
    "            self.q2.append(self.q1.popleft()) \n",
    "        self.q1,self.q2 = self.q2,self.q1\n",
    "\n",
    "    def pop(self):\n",
    "        return self.q1.popleft()    \n"
   ]
  },
  {
   "cell_type": "markdown",
   "id": "f0cd0109-05e2-4743-ab5f-cdecec2687b3",
   "metadata": {},
   "source": [
    "##5."
   ]
  },
  {
   "cell_type": "code",
   "execution_count": 16,
   "id": "28bafc8e-e255-47c2-a71a-c4de4cc9a9a0",
   "metadata": {},
   "outputs": [],
   "source": [
    "class QueueUsingStacks:\n",
    "    def __init__(self):\n",
    "        self.in_stack = []   \n",
    "        self.out_stack = []  \n",
    "\n",
    "    def enqueue(self, x):\n",
    "        self.in_stack.append(x) \n",
    "\n",
    "    def dequeue(self):\n",
    "        if not self.out_stack:\n",
    "            while self.in_stack:\n",
    "                self.out_stack.append(self.in_stack.pop())  \n",
    "        return self.out_stack.pop()\n"
   ]
  },
  {
   "cell_type": "markdown",
   "id": "d34bcd8f-6178-4c50-88d0-2fc3ec4f44c4",
   "metadata": {},
   "source": [
    "##6. \n",
    "Deuqe는 단방향 원형 리스트 기반이다. Deque의 front는 리스트의 맨 앞, tail은 리스트의 맨 끝 이다.\n",
    "enqueue()의 수행시간은 Deque의 front에서 수행할 시 Θ(1), tail에서 수행할 시에도 Θ(1)이다.\n",
    "따라서, enqueue()의 수행시간은 Θ(1)이다.\n",
    "dequeue()의 수행시간은 Deque의 front에서 수행할 시 Θ(1),tail에서 수행할 시에도 Θ(1)이다.\n",
    "따라서, dequeue()의 수행시간은 Θ(1)이다."
   ]
  },
  {
   "cell_type": "markdown",
   "id": "2f962d4a-f5ae-4fb4-a269-8520ea7446b1",
   "metadata": {},
   "source": [
    "##7. \n",
    "enqueue()의 수행시간은 Deque의 front에서 수행할 시 Θ(1), tail에서 수행할 시 Θ(n)이다.\n",
    "따라서, 최악을 고려해 enqueue()의 수행시간은 Θ(n)이다.\n",
    "dequeue()의 수행시간은 Deque의 front에서 수행할 시 Θ(1), tail에서 수행할 시에는 Θ(n)이다.\n",
    "따라서, 최악을 고려해 dequeue()의 수행시간은 Θ(n)이다."
   ]
  },
  {
   "cell_type": "markdown",
   "id": "f214639e-9c8b-4834-9c35-0af19c275987",
   "metadata": {},
   "source": [
    "##8."
   ]
  },
  {
   "cell_type": "code",
   "execution_count": 19,
   "id": "289d148e-dca9-4bd2-b706-8eb23c51753a",
   "metadata": {},
   "outputs": [],
   "source": [
    "class ListDeque:\n",
    "    def __init__(self):\n",
    "        self.__queue = []\n",
    "\n",
    "    def enqueue(self, x):\n",
    "        self.__queue.append(x)\n",
    "\n",
    "    def dequeue(self):\n",
    "        return self.__queue.pop(0)\n",
    "\n",
    "    def push(self, x):\n",
    "        self.__queue.insert(0, x)  \n",
    "\n",
    "    def pop(self):\n",
    "        return self.__queue.pop()  \n",
    "\n",
    "    def front(self):\n",
    "        if self.is_empty():\n",
    "            return None\n",
    "        else:\n",
    "            return self.__queue[0]\n",
    "\n",
    "    def rear(self):\n",
    "        if self.is_empty():\n",
    "            return None\n",
    "        else:\n",
    "            return self.__queue[-1]\n",
    "\n",
    "    def is_empty(self):\n",
    "        return len(self.__queue) == 0\n",
    "\n",
    "    def deque_all(self):\n",
    "        self.__queue.clear()\n",
    "\n",
    "    def print_deque(self):\n",
    "        print(\"Dequeue from front:\", end=' ')\n",
    "        for i in range(len(self.__queue)):\n",
    "            print(self.__queue[i], end=' ')\n",
    "        print()\n"
   ]
  }
 ],
 "metadata": {
  "kernelspec": {
   "display_name": "Python 3 (ipykernel)",
   "language": "python",
   "name": "python3"
  },
  "language_info": {
   "codemirror_mode": {
    "name": "ipython",
    "version": 3
   },
   "file_extension": ".py",
   "mimetype": "text/x-python",
   "name": "python",
   "nbconvert_exporter": "python",
   "pygments_lexer": "ipython3",
   "version": "3.12.2"
  }
 },
 "nbformat": 4,
 "nbformat_minor": 5
}
